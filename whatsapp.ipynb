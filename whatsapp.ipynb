{
 "cells": [
  {
   "cell_type": "code",
   "execution_count": 3,
   "metadata": {},
   "outputs": [],
   "source": [
    "import pywhatkit"
   ]
  },
  {
   "cell_type": "markdown",
   "metadata": {},
   "source": [
    "### Pre requistes \n",
    "Log onto whatsapp web on your browswer\n",
    "write a phone number as # +91xxxxxx +91 is the country code"
   ]
  },
  {
   "cell_type": "code",
   "execution_count": 5,
   "metadata": {},
   "outputs": [
    {
     "name": "stdout",
     "output_type": "stream",
     "text": [
      "In 8 Seconds WhatsApp will open and after 32 Seconds Message will be Delivered!\n",
      "Success\n"
     ]
    }
   ],
   "source": [
    "# phone_number = input('Enter phone number')\n",
    "# +91xxxxxx \n",
    "try :\n",
    "  pywhatkit.sendwhatmsg('+917657916499','Hi',20,10,32)\n",
    "  print('Success')\n",
    "except:\n",
    "  print('An error')"
   ]
  },
  {
   "cell_type": "code",
   "execution_count": null,
   "metadata": {},
   "outputs": [],
   "source": []
  }
 ],
 "metadata": {
  "kernelspec": {
   "display_name": "env",
   "language": "python",
   "name": "python3"
  },
  "language_info": {
   "codemirror_mode": {
    "name": "ipython",
    "version": 3
   },
   "file_extension": ".py",
   "mimetype": "text/x-python",
   "name": "python",
   "nbconvert_exporter": "python",
   "pygments_lexer": "ipython3",
   "version": "3.11.1"
  }
 },
 "nbformat": 4,
 "nbformat_minor": 2
}
